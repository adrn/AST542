{
 "cells": [
  {
   "cell_type": "markdown",
   "metadata": {},
   "source": [
    "# Machine Learning: Introduction\n",
    "\n",
    "I think of machine learning as a set of algorithms and implementations that make data-driven predictions or decisions. This is why machine learning has become all the buzz in industry, but isn't always applicable in scientific studies; we're often interested in making some inference about a parameter after marginalizing over nuisance parameters so we can learn some thing about \"physics.\" We're usually not trying to serve ads to teenagers.\n",
    "\n",
    "The typical problems for which you might consider using machine learning methods can be grouped into four main types of problems:\n",
    "\n",
    "* **Classification**: I have photometry for 100,000 sources from some imaging survey and I want to know which ones are galaxies, stars, quasars\n",
    "* **Regression**: I want to learn the parameters of some model, usually so I can make good predictions.\n",
    "* **Dimensionality reduction**: I have spectra for 100,000 galaxies and I want to decompose the spectra into a mixture of stellar population models.\n",
    "* **Clustering**: I have colors, sizes, and shapes for 100,000 galaxies and I want to know if there are sub-populations with similar characteristics.\n",
    "\n",
    "https://github.com/jakevdp/sklearn_pycon2015/blob/master/notebooks/02.2-Basic-Principles.ipynb"
   ]
  },
  {
   "cell_type": "code",
   "execution_count": null,
   "metadata": {
    "collapsed": true
   },
   "outputs": [],
   "source": []
  }
 ],
 "metadata": {
  "anaconda-cloud": {},
  "kernelspec": {
   "display_name": "Python [conda env:statsseminar]",
   "language": "python",
   "name": "conda-env-statsseminar-py"
  },
  "language_info": {
   "codemirror_mode": {
    "name": "ipython",
    "version": 3
   },
   "file_extension": ".py",
   "mimetype": "text/x-python",
   "name": "python",
   "nbconvert_exporter": "python",
   "pygments_lexer": "ipython3",
   "version": "3.5.2"
  }
 },
 "nbformat": 4,
 "nbformat_minor": 2
}

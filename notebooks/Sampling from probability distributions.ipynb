{
 "cells": [
  {
   "cell_type": "code",
   "execution_count": null,
   "metadata": {
    "collapsed": false
   },
   "outputs": [],
   "source": [
    "import numpy as np\n",
    "import matplotlib.pyplot as plt\n",
    "plt.style.use('apw-notebook.mplstyle')\n",
    "%matplotlib inline\n",
    "\n",
    "from scipy.integrate import quad\n",
    "from scipy.interpolate import interp1d"
   ]
  },
  {
   "cell_type": "markdown",
   "metadata": {},
   "source": [
    "Computers can generate (pseudo)-random, uniformly distributed random numbers (using, e.g., the [Mersenne Twister](https://en.wikipedia.org/wiki/Mersenne_Twister)). We often want to generate random samples from distributions, either with analytic forms or complex posterior probabilities. For some distributions, there are specific algorithms that efficiently generate samples (e.g., Box-Mueller for the Gaussian) -- for named distributions, you should almost always use [scipy.stats](https://docs.scipy.org/doc/scipy-0.18.1/reference/stats.html)! -- but in other cases, you'll need to generate samples numerically. Here we'll go through a few methods for doing that."
   ]
  },
  {
   "cell_type": "markdown",
   "metadata": {},
   "source": [
    "---\n",
    "\n",
    "# Inverse transform sampling\n",
    "\n",
    "Only works for 1D or separable ND distributions.\n",
    "\n",
    "Given some (probability, number, mass) density function $p(x)$ compute the cumulative distribution:\n",
    "$$\n",
    "F(x) = \\int_{-\\infty}^x \\, p(z) \\, {\\rm d}z\n",
    "$$\n",
    "\n",
    "To generate samples from $x \\sim p(x)$, generate uniform random samples $u$ and invert the cdf:\n",
    "$$\n",
    "x = F^{-1}(u)\n",
    "$$\n",
    "\n",
    "Let's see this in action.\n",
    "\n",
    "### Example 1: points uniformly distributed on the surface of a unit sphere\n",
    "\n",
    "Generate 1000 angular positions $(\\phi, \\theta)$ on the surface of the unit sphere, uniformly distributed over the surface. \n",
    "\n",
    "Do this by analytically inverting the cdf, generating uniform random samples, and evaluating:"
   ]
  },
  {
   "cell_type": "code",
   "execution_count": null,
   "metadata": {
    "collapsed": true
   },
   "outputs": [],
   "source": []
  },
  {
   "cell_type": "markdown",
   "metadata": {},
   "source": [
    "### Example 2: points drawn from a power-law distribution\n",
    "\n",
    "$$\n",
    "\\begin{align}\n",
    "p(x) &= C \\, x^n\\\\\n",
    "\\quad x &\\in (a, b)\\\\\n",
    "n&<0\\\\\n",
    "C &= \\frac{1 + n}{b^{1+n} - a^{1+n}}\n",
    "\\end{align}\n",
    "$$\n",
    "\n",
    "Generate 1000 points drawn from a power-law distribution with the following parameters:\n",
    "$$\n",
    "n = -2\\\\\n",
    "a = 0.1\\\\\n",
    "b = 10.\n",
    "$$\n",
    "\n",
    "Do this by _numerically_ computing the cdf along a grid of values over the domain $(0.1,10.)$. \n",
    "\n",
    "Hint: use scipy's integration function `quad()` and use an interpolating function, scipy's `interp1d()`, to invert the cdf. Both are already imported"
   ]
  },
  {
   "cell_type": "code",
   "execution_count": null,
   "metadata": {
    "collapsed": true
   },
   "outputs": [],
   "source": []
  },
  {
   "cell_type": "markdown",
   "metadata": {},
   "source": [
    "### Example 3: radii drawn from a Hernquist profile\n",
    "\n",
    "$$\n",
    "\\begin{align}\n",
    "\\rho(r) &= \\frac{M_{tot}}{2\\pi\\,a^3} \\, \\left[\\frac{r}{a} \\, \\left(1+\\frac{r}{a}\\right)^3\\right] \\\\\n",
    "M(<r) &= 2\\,M_{tot} \\, \\frac{\\left(r/a\\right)^2}{2\\left(1 + r/a\\right)^2}\n",
    "\\end{align}\n",
    "$$\n",
    "\n",
    "Use whatever method you prefer to sample 1000 radii from a Hernquist profile."
   ]
  },
  {
   "cell_type": "code",
   "execution_count": null,
   "metadata": {
    "collapsed": true
   },
   "outputs": [],
   "source": []
  },
  {
   "cell_type": "markdown",
   "metadata": {
    "collapsed": true
   },
   "source": [
    "---\n",
    "\n",
    "# Rejection sampling\n",
    "\n",
    "Only practical for low dimensionality."
   ]
  },
  {
   "cell_type": "markdown",
   "metadata": {},
   "source": [
    "### Example 1: sampling from a mixture of two Gaussians\n",
    "\n",
    "Use rejection sampling to generate approximate samples from the mixture of Gaussians $\\mathcal(N)(\\mu,\\sigma^2)$ defined by (and below):\n",
    "$$\n",
    "p(x) = 0.5\\,\\mathcal{N}(1,0.25) + 0.5\\,\\mathcal{N}(2.5,1)\n",
    "$$"
   ]
  },
  {
   "cell_type": "code",
   "execution_count": null,
   "metadata": {
    "collapsed": true
   },
   "outputs": [],
   "source": [
    "def gaussian(x, mu, var):\n",
    "    return 1/np.sqrt(2*np.pi*var) * np.exp(-0.5*(x-mu)**2/var)\n",
    "\n",
    "def gaussian_mixture(x):\n",
    "    return 0.5*gaussian(x, 1., 0.25) + 0.5*gaussian(x, 2.5, 1)"
   ]
  },
  {
   "cell_type": "markdown",
   "metadata": {},
   "source": [
    "First plot the pdf of the mixture"
   ]
  },
  {
   "cell_type": "code",
   "execution_count": null,
   "metadata": {
    "collapsed": true
   },
   "outputs": [],
   "source": []
  },
  {
   "cell_type": "markdown",
   "metadata": {},
   "source": [
    "(Comment on adaptive rejection sampling methods)"
   ]
  },
  {
   "cell_type": "markdown",
   "metadata": {},
   "source": [
    "___\n",
    "\n",
    "# Markov Chain Monte Carlo (MCMC): Metropolis-hastings\n",
    "\n",
    "Lose independent samples, gain in scalability to higher dimensions\n",
    "\n",
    "The simplest MCMC algorithm is \"Metropolis-Hastings\". I'm not going to explain it in detail, but in pseudocode, it looks like this:\n",
    "\n",
    "- Start from some position in the space of variables you are sampling over, $\\theta_0$ with probability $\\pi_0$\n",
    "- Iterate from 1 to $N_{\\rm steps}$:\n",
    "    - Sample an offset from $\\delta\\theta_0$ from some proposal distribution\n",
    "    - Compute a new parameter value using this offset, $\\theta_{\\rm new} = \\theta_0 + \\delta\\theta_0$\n",
    "    - Evaluate the probability at the new parameter vector, $\\pi_{\\rm new}$\n",
    "    - Sample a uniform random number, $r \\sim \\mathcal{U}(0,1)$\n",
    "    - if $\\pi_{\\rm new}/\\pi_0 > 1$ or $\\pi_{\\rm new}/\\pi_0 > r$:\n",
    "        - store $\\theta_{\\rm new}$\n",
    "        - replace $\\theta_0,\\pi_0$ with $\\theta_{\\rm new},\\pi_{\\rm new}$\n",
    "    - else:\n",
    "        - store $\\theta_0$ again\n",
    "        \n",
    "The proposal distribution has to be chosen and tuned by hand. We'll use a spherical / uncorrelated Gaussian distribution with root-variances set by hand."
   ]
  },
  {
   "cell_type": "markdown",
   "metadata": {
    "collapsed": true
   },
   "source": [
    "### Example 1: implement and use Metropolis-Hastings MCMC to sample from the above mixture of Gaussians"
   ]
  },
  {
   "cell_type": "code",
   "execution_count": null,
   "metadata": {
    "collapsed": true
   },
   "outputs": [],
   "source": [
    "from scipy.misc import logsumexp"
   ]
  },
  {
   "cell_type": "code",
   "execution_count": null,
   "metadata": {
    "collapsed": false
   },
   "outputs": [],
   "source": [
    "# First, here's a log version of the mixture of Gaussians above that \n",
    "#    is less sensitive to numerical issues\n",
    "\n",
    "def ln_gaussian(x, mu, var):\n",
    "    return -0.5*np.log(2*np.pi*var) - 0.5*(x-mu)**2/var\n",
    "\n",
    "def ln_gaussian_mixture(x):\n",
    "    x = np.atleast_1d(x)\n",
    "    \n",
    "    # weights\n",
    "    w = np.array([0.5, 0.5])[:,np.newaxis]\n",
    "    \n",
    "    X = np.vstack((ln_gaussian(x, 1., 0.25), ln_gaussian(x, 2.5, 1)))\n",
    "    return logsumexp(X, b=w, axis=0)"
   ]
  },
  {
   "cell_type": "code",
   "execution_count": null,
   "metadata": {
    "collapsed": false
   },
   "outputs": [],
   "source": [
    "ln_gaussian_mixture(1.)"
   ]
  },
  {
   "cell_type": "code",
   "execution_count": null,
   "metadata": {
    "collapsed": true
   },
   "outputs": [],
   "source": [
    "# We're sampling from a 1D distribution, so we only need to propose in 1 dimension\n",
    "def sample_proposal(sigma):\n",
    "    return np.random.normal(0., sigma)"
   ]
  },
  {
   "cell_type": "code",
   "execution_count": null,
   "metadata": {
    "collapsed": true
   },
   "outputs": [],
   "source": [
    "def run_metropolis_hastings_1d(p0, n_steps, ln_prob_func, proposal_sigma):\n",
    "    \"\"\"\n",
    "    Run a Metropolis-Hastings MCMC sampler to generate samples from the input\n",
    "    log-posterior function, starting from some initial parameter vector.\n",
    "    \n",
    "    Parameters\n",
    "    ----------\n",
    "    p0 : numeric\n",
    "        Initial value.\n",
    "    n_steps : int\n",
    "        Number of steps to run the sampler for.\n",
    "    ln_prob_func : function\n",
    "        A callable object that computes the log takes a parameter vector and computes \n",
    "        the log of the posterior pdf.\n",
    "    proposal_sigmas : numeric\n",
    "        Standard-deviation passed to the sample_proposal function. \n",
    "    \"\"\"\n",
    "    \n",
    "    # the objects we'll fill and return:\n",
    "    chain = np.zeros(n_steps) #  value at each step\n",
    "    ln_probs = np.zeros(n_steps) # log-probability value at each step\n",
    "    \n",
    "    # FILL THIS IN!"
   ]
  },
  {
   "cell_type": "code",
   "execution_count": null,
   "metadata": {
    "collapsed": true
   },
   "outputs": [],
   "source": [
    "# Run the MCMC sampler to generate samples from the mixture of Gaussians "
   ]
  },
  {
   "cell_type": "code",
   "execution_count": null,
   "metadata": {
    "collapsed": true
   },
   "outputs": [],
   "source": []
  }
 ],
 "metadata": {
  "anaconda-cloud": {},
  "kernelspec": {
   "display_name": "Python [default]",
   "language": "python",
   "name": "python3"
  },
  "language_info": {
   "codemirror_mode": {
    "name": "ipython",
    "version": 3
   },
   "file_extension": ".py",
   "mimetype": "text/x-python",
   "name": "python",
   "nbconvert_exporter": "python",
   "pygments_lexer": "ipython3",
   "version": "3.5.2"
  }
 },
 "nbformat": 4,
 "nbformat_minor": 2
}
